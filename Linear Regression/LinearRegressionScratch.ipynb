{
 "cells": [
  {
   "cell_type": "markdown",
   "id": "f76e0424",
   "metadata": {},
   "source": [
    "# Import Libraries"
   ]
  },
  {
   "cell_type": "code",
   "execution_count": 9,
   "id": "ea998df7",
   "metadata": {},
   "outputs": [],
   "source": [
    "import pandas as pd\n",
    "import matplotlib.pyplot as plt\n",
    "import numpy as np\n",
    "from sklearn.metrics import r2_score"
   ]
  },
  {
   "cell_type": "markdown",
   "id": "9d0b70ec",
   "metadata": {},
   "source": [
    "# Model Functions"
   ]
  },
  {
   "cell_type": "code",
   "execution_count": 2,
   "id": "7f710d42",
   "metadata": {},
   "outputs": [],
   "source": [
    "def mean(values):\n",
    "    return sum(values) / len(values)\n",
    "\n",
    "\n",
    "def covariance(x, y, x_mean, y_mean):\n",
    "    return sum((xi - x_mean) * (yi - y_mean) for xi, yi in zip(x, y)) / len(x)\n",
    "\n",
    "\n",
    "def variance(values, mean):\n",
    "    return sum((xi - mean) ** 2 for xi in values) / len(values)\n",
    "\n",
    "\n",
    "def multiple_linear_regression(X, y):\n",
    "    if len(X) != len(y):\n",
    "        raise ValueError(\"Number of samples in X and y must be the same\")\n",
    "\n",
    "    num_features = len(X[0])\n",
    "    num_samples = len(X)\n",
    "\n",
    "    X_means = [mean([X[i][j] for i in range(num_samples)]) for j in range(num_features)]\n",
    "    y_mean = mean(y)\n",
    "\n",
    "    covariances = [covariance([X[i][j] for i in range(num_samples)], y, X_means[j], y_mean) for j in\n",
    "                   range(num_features)]\n",
    "\n",
    "    variances = [variance([X[i][j] for i in range(num_samples)], X_means[j]) for j in range(num_features)]\n",
    "\n",
    "    coefficients = [covariances[j] / variances[j] for j in range(num_features)]\n",
    "\n",
    "    beta_0 = y_mean - sum(coefficients[j] * X_means[j] for j in range(num_features))\n",
    "\n",
    "    return [beta_0] + coefficients\n"
   ]
  },
  {
   "cell_type": "markdown",
   "id": "e21ae2cb",
   "metadata": {},
   "source": [
    "# Test Model"
   ]
  },
  {
   "cell_type": "code",
   "execution_count": 3,
   "id": "02e72797",
   "metadata": {},
   "outputs": [
    {
     "name": "stdout",
     "output_type": "stream",
     "text": [
      "<class 'pandas.core.frame.DataFrame'>\n",
      "RangeIndex: 5000 entries, 0 to 4999\n",
      "Data columns (total 7 columns):\n",
      " #   Column      Non-Null Count  Dtype  \n",
      "---  ------      --------------  -----  \n",
      " 0   Income      5000 non-null   float64\n",
      " 1   Age         5000 non-null   float64\n",
      " 2   Rooms       5000 non-null   float64\n",
      " 3   Bedrooms    5000 non-null   float64\n",
      " 4   Population  5000 non-null   float64\n",
      " 5   Price       5000 non-null   int64  \n",
      " 6   Address     5000 non-null   object \n",
      "dtypes: float64(5), int64(1), object(1)\n",
      "memory usage: 273.6+ KB\n",
      "<class 'pandas.core.frame.DataFrame'>\n",
      "RangeIndex: 5000 entries, 0 to 4999\n",
      "Data columns (total 6 columns):\n",
      " #   Column      Non-Null Count  Dtype  \n",
      "---  ------      --------------  -----  \n",
      " 0   Income      5000 non-null   float64\n",
      " 1   Age         5000 non-null   float64\n",
      " 2   Rooms       5000 non-null   float64\n",
      " 3   Bedrooms    5000 non-null   float64\n",
      " 4   Population  5000 non-null   float64\n",
      " 5   Price       5000 non-null   int64  \n",
      "dtypes: float64(5), int64(1)\n",
      "memory usage: 234.5 KB\n",
      "[-2728938.2833385626, 21.195482930331742, 161177.8185799772, 117841.63647111373, 48947.71122485626, 14.534894660775654]\n"
     ]
    }
   ],
   "source": [
    "data = pd.read_csv('USA_Housing.csv')\n",
    "\n",
    "data.rename(columns={'Avg. Area Income': 'Income', 'Avg. Area House Age': 'Age', 'Avg. Area Number of Rooms': 'Rooms',\n",
    "                     'Avg. Area Number of Bedrooms': 'Bedrooms', 'Area Population': 'Population'}, inplace=True)\n",
    "data.head()\n",
    "\n",
    "data['Price'] = data['Price'].astype('int64')\n",
    "\n",
    "data.info()\n",
    "data.drop(['Address'], axis=1, inplace=True)\n",
    "data.info()\n"
   ]
  },
  {
   "cell_type": "code",
   "execution_count": 5,
   "id": "a47e9cfc",
   "metadata": {},
   "outputs": [
    {
     "name": "stdout",
     "output_type": "stream",
     "text": [
      "[-2728938.2833385626, 21.195482930331742, 161177.8185799772, 117841.63647111373, 48947.71122485626, 14.534894660775654]\n"
     ]
    }
   ],
   "source": [
    "x = data[['Income', 'Age', 'Rooms', 'Bedrooms', 'Population']].values\n",
    "X = []\n",
    "for i in x:\n",
    "    X.append(list(i))\n",
    "    \n",
    "y = data[['Price']].values\n",
    "Y = []\n",
    "for i in y:\n",
    "    Y.extend(i)\n",
    "\n",
    "\n",
    "coefficients = multiple_linear_regression(X, Y)\n",
    "print(coefficients)\n",
    "\n",
    "def predict(coefficients, x):\n",
    "    return coefficients[0] + sum(coefficients[i + 1] * x[i] for i in range(len(x)))"
   ]
  },
  {
   "cell_type": "code",
   "execution_count": 11,
   "id": "2fd7bdb6",
   "metadata": {},
   "outputs": [
    {
     "name": "stdout",
     "output_type": "stream",
     "text": [
      "R-squared (R2) value: 0.8912063176993581\n"
     ]
    }
   ],
   "source": [
    "y_pred = [predict(coefficients, x) for x in X]\n",
    "r2 = r2_score(Y, y_pred)\n",
    "print(\"R-squared (R2) value:\", r2)"
   ]
  },
  {
   "cell_type": "markdown",
   "id": "a9a6622a",
   "metadata": {},
   "source": [
    "# Plot Regression Line"
   ]
  },
  {
   "cell_type": "code",
   "execution_count": 8,
   "id": "4e829a14",
   "metadata": {},
   "outputs": [
    {
     "data": {
      "image/png": "[encoded data removed]",
      "text/plain": [
       "<Figure size 640x480 with 1 Axes>"
      ]
     },
     "metadata": {},
     "output_type": "display_data"
    }
   ],
   "source": [
    "plt.scatter(Y, [predict(coefficients, x) for x in X], alpha=0.5)\n",
    "plt.xlabel(\"Actual Price\")\n",
    "plt.ylabel(\"Predicted Price\")\n",
    "\n",
    "x_range = np.linspace(min(Y), max(Y), 100)\n",
    "y_range = [predict(coefficients, [x]) for x in x_range]\n",
    "plt.plot(x_range, y_range, color='red', linewidth=2)\n",
    "\n",
    "plt.title(\"Multiple Linear Regression\")\n",
    "plt.grid(True)\n",
    "plt.show()"
   ]
  }
 ],
 "metadata": {
  "kernelspec": {
   "display_name": "Python 3 (ipykernel)",
   "language": "python",
   "name": "python3"
  },
  "language_info": {
   "codemirror_mode": {
    "name": "ipython",
    "version": 3
   },
   "file_extension": ".py",
   "mimetype": "text/x-python",
   "name": "python",
   "nbconvert_exporter": "python",
   "pygments_lexer": "ipython3",
   "version": "3.11.5"
  }
 },
 "nbformat": 4,
 "nbformat_minor": 5
}
