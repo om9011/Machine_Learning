{
 "cells": [
  {
   "cell_type": "markdown",
   "metadata": {},
   "source": [
    "# Import Libraries"
   ]
  },
  {
   "cell_type": "code",
   "execution_count": 41,
   "metadata": {
    "id": "WEt5ygaC6dbe"
   },
   "outputs": [],
   "source": [
    "import numpy as np\n",
    "from sklearn.model_selection import train_test_split\n",
    "from sklearn.metrics import accuracy_score"
   ]
  },
  {
   "cell_type": "markdown",
   "metadata": {},
   "source": [
    "# Import Dataset"
   ]
  },
  {
   "cell_type": "code",
   "execution_count": 51,
   "metadata": {
    "id": "ykca5sGG633Y"
   },
   "outputs": [
    {
     "data": {
      "text/plain": [
       "numpy.ndarray"
      ]
     },
     "execution_count": 51,
     "metadata": {},
     "output_type": "execute_result"
    }
   ],
   "source": [
    "data = np.genfromtxt('diabetes.csv', delimiter=',', skip_header=1)\n",
    "X = data[:, :-1]\n",
    "y = data[:, -1]\n",
    "\n",
    "type(X)"
   ]
  },
  {
   "cell_type": "markdown",
   "metadata": {},
   "source": [
    "# Split Data to Train-Test"
   ]
  },
  {
   "cell_type": "code",
   "execution_count": 43,
   "metadata": {
    "id": "l5Phe06v698Q"
   },
   "outputs": [],
   "source": [
    "X_train, X_test, y_train, y_test = train_test_split(X, y, test_size=0.2, random_state=42)"
   ]
  },
  {
   "cell_type": "markdown",
   "metadata": {},
   "source": [
    "# Build Model "
   ]
  },
  {
   "cell_type": "code",
   "execution_count": 44,
   "metadata": {
    "id": "SlW3bgcC7DNN"
   },
   "outputs": [],
   "source": [
    "unique_classes, class_counts = np.unique(y_train, return_counts=True)\n",
    "class_priors = class_counts / len(y_train)"
   ]
  },
  {
   "cell_type": "code",
   "execution_count": 45,
   "metadata": {
    "colab": {
     "base_uri": "https://localhost:8080/",
     "height": 74
    },
    "id": "ZXTioeED7Hjk",
    "outputId": "1e4c2efc-f4a2-4f21-c548-214cee862e9c"
   },
   "outputs": [],
   "source": [
    "feature_means = np.array([X_train[y_train == c].mean(axis=0) for c in unique_classes])\n",
    "feature_stds = np.array([X_train[y_train == c].std(axis=0) for c in unique_classes])"
   ]
  },
  {
   "cell_type": "code",
   "execution_count": 46,
   "metadata": {
    "id": "jt_r8WNf7Lzo"
   },
   "outputs": [],
   "source": [
    "def naive_bayes_predict(X, feature_means, feature_stds, class_priors):\n",
    "    predictions = []\n",
    "    for x in X:\n",
    "        likelihoods = np.exp(-0.5 * ((x - feature_means) / feature_stds) ** 2) / (np.sqrt(2 * np.pi) * feature_stds)\n",
    "        likelihoods_product = np.prod(likelihoods, axis=1)\n",
    "        posterior_probs = class_priors * likelihoods_product\n",
    "        predicted_class = unique_classes[np.argmax(posterior_probs)]\n",
    "        predictions.append(predicted_class)\n",
    "    return predictions"
   ]
  },
  {
   "cell_type": "markdown",
   "metadata": {},
   "source": [
    "# Predict Outcome"
   ]
  },
  {
   "cell_type": "code",
   "execution_count": 47,
   "metadata": {
    "colab": {
     "base_uri": "https://localhost:8080/"
    },
    "id": "nk2O0LBL7RCF",
    "outputId": "4f738d71-1b03-400a-d23d-296da3d3bc57"
   },
   "outputs": [],
   "source": [
    "y_pred = naive_bayes_predict(X_test, feature_means, feature_stds, class_priors)"
   ]
  },
  {
   "cell_type": "markdown",
   "metadata": {},
   "source": [
    "# Calculate Accuracy"
   ]
  },
  {
   "cell_type": "code",
   "execution_count": 48,
   "metadata": {},
   "outputs": [
    {
     "name": "stdout",
     "output_type": "stream",
     "text": [
      "Accuracy: 0.7662337662337663\n"
     ]
    }
   ],
   "source": [
    "accuracy = accuracy_score(y_test, y_pred)\n",
    "print(\"Accuracy:\", accuracy)"
   ]
  }
 ],
 "metadata": {
  "colab": {
   "provenance": []
  },
  "kernelspec": {
   "display_name": "Python 3 (ipykernel)",
   "language": "python",
   "name": "python3"
  },
  "language_info": {
   "codemirror_mode": {
    "name": "ipython",
    "version": 3
   },
   "file_extension": ".py",
   "mimetype": "text/x-python",
   "name": "python",
   "nbconvert_exporter": "python",
   "pygments_lexer": "ipython3",
   "version": "3.11.5"
  }
 },
 "nbformat": 4,
 "nbformat_minor": 1
}
